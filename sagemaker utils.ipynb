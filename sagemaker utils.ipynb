{
 "cells": [
  {
   "cell_type": "markdown",
   "id": "83d4caa8",
   "metadata": {},
   "source": [
    "This notebook contains some boiler plate code for training and deploying models using AWS Sagemaker"
   ]
  },
  {
   "cell_type": "markdown",
   "id": "0d3d8bc0",
   "metadata": {},
   "source": [
    "# Training\n",
    "---"
   ]
  },
  {
   "cell_type": "code",
   "execution_count": 3,
   "id": "00953551",
   "metadata": {},
   "outputs": [],
   "source": [
    "from sagemaker import get_execution_role\n",
    "import sagemaker\n",
    "from sagemaker import image_uris\n",
    "from sagemaker.predictor import csv_serializer"
   ]
  },
  {
   "cell_type": "markdown",
   "id": "cb83757b",
   "metadata": {},
   "source": [
    "## Training using training jobs"
   ]
  },
  {
   "cell_type": "code",
   "execution_count": 20,
   "id": "7fbf03c5",
   "metadata": {},
   "outputs": [
    {
     "name": "stderr",
     "output_type": "stream",
     "text": [
      "Defaulting to the only supported framework/algorithm version: 1. Ignoring framework/algorithm version: latest.\n"
     ]
    },
    {
     "name": "stdout",
     "output_type": "stream",
     "text": [
      "2022-04-14 14:00:21 Starting - Starting the training job...\n",
      "2022-04-14 14:00:45 Starting - Preparing the instances for trainingProfilerReport-1649944821: InProgress\n",
      "......\n",
      "2022-04-14 14:01:46 Downloading - Downloading input data......\n",
      "2022-04-14 14:02:45 Training - Training image download completed. Training in progress.\u001b[34mArguments: train\u001b[0m\n",
      "\u001b[34m[04/14/2022 14:02:45 WARNING 140308162881344] Loggers have already been setup.\u001b[0m\n",
      "\u001b[34m[04/14/2022 14:02:45 WARNING 140308162881344] Loggers have already been setup.\u001b[0m\n",
      "\u001b[34m[04/14/2022 14:02:45 INFO 140308162881344] nvidia-smi took: 0.025269031524658203 secs to identify 0 gpus\u001b[0m\n",
      "\u001b[34m[04/14/2022 14:02:45 INFO 140308162881344] Running single machine CPU BlazingText training using supervised mode.\u001b[0m\n",
      "\u001b[34mNumber of CPU sockets found in instance is  1\u001b[0m\n",
      "\u001b[34m[04/14/2022 14:02:45 INFO 140308162881344] Processing /opt/ml/input/data/train/train.csv . File size: 40.886911392211914 MB\u001b[0m\n",
      "\u001b[34m[04/14/2022 14:02:45 INFO 140308162881344] Processing /opt/ml/input/data/validation/validation.csv . File size: 4.599496841430664 MB\u001b[0m\n",
      "\u001b[34mRead 8M words\u001b[0m\n",
      "\u001b[34mNumber of words:  33240\u001b[0m\n",
      "\u001b[34m##### Alpha: 0.0488  Progress: 2.40%  Million Words/sec: 1.61 #####\u001b[0m\n",
      "\u001b[34m##### Alpha: 0.0462  Progress: 7.64%  Million Words/sec: 1.71 #####\u001b[0m\n",
      "\u001b[34m##### Alpha: 0.0433  Progress: 13.35%  Million Words/sec: 1.85 #####\u001b[0m\n",
      "\u001b[34m##### Alpha: 0.0405  Progress: 19.01%  Million Words/sec: 2.12 #####\u001b[0m\n",
      "\u001b[34m##### Alpha: 0.0378  Progress: 24.40%  Million Words/sec: 2.28 #####\u001b[0m\n",
      "\u001b[34m##### Alpha: 0.0351  Progress: 29.74%  Million Words/sec: 2.39 #####\u001b[0m\n",
      "\u001b[34m##### Alpha: 0.0324  Progress: 35.13%  Million Words/sec: 2.43 #####\u001b[0m\n",
      "\u001b[34m##### Alpha: 0.0299  Progress: 40.29%  Million Words/sec: 2.35 #####\u001b[0m\n",
      "\u001b[34m##### Alpha: 0.0273  Progress: 45.34%  Million Words/sec: 2.34 #####\u001b[0m\n",
      "\u001b[34m##### Alpha: 0.0247  Progress: 50.53%  Million Words/sec: 2.33 #####\u001b[0m\n",
      "\u001b[34m##### Alpha: 0.0221  Progress: 55.89%  Million Words/sec: 2.39 #####\u001b[0m\n",
      "\u001b[34m##### Alpha: 0.0193  Progress: 61.43%  Million Words/sec: 2.44 #####\u001b[0m\n",
      "\u001b[34m##### Alpha: 0.0166  Progress: 66.89%  Million Words/sec: 2.49 #####\u001b[0m\n",
      "\u001b[34m##### Alpha: 0.0138  Progress: 72.34%  Million Words/sec: 2.53 #####\u001b[0m\n",
      "\u001b[34m##### Alpha: 0.0112  Progress: 77.68%  Million Words/sec: 2.47 #####\u001b[0m\n",
      "\u001b[34m##### Alpha: 0.0086  Progress: 82.76%  Million Words/sec: 2.48 #####\u001b[0m\n",
      "\u001b[34m##### Alpha: 0.0061  Progress: 87.88%  Million Words/sec: 2.50 #####\u001b[0m\n",
      "\u001b[34m##### Alpha: 0.0033  Progress: 93.32%  Million Words/sec: 2.51 #####\u001b[0m\n",
      "\u001b[34m##### Alpha: 0.0007  Progress: 98.67%  Million Words/sec: 2.51 #####\u001b[0m\n",
      "\u001b[34m##### Alpha: 0.0000  Progress: 100.00%  Million Words/sec: 2.49 #####\u001b[0m\n",
      "\n",
      "2022-04-14 14:03:23 Uploading - Uploading generated training model\u001b[34mTraining finished.\u001b[0m\n",
      "\u001b[34mAverage throughput in Million words/sec: 2.49\u001b[0m\n",
      "\u001b[34mTotal training time in seconds: 16.17\u001b[0m\n",
      "\u001b[34m#train_accuracy: 0.8672\u001b[0m\n",
      "\u001b[34mNumber of train examples: 426989\u001b[0m\n",
      "\u001b[34m#validation_accuracy: 0.7911\u001b[0m\n",
      "\u001b[34mNumber of validation examples: 47444\u001b[0m\n",
      "\n",
      "2022-04-14 14:06:26 Completed - Training job completed\n",
      "ProfilerReport-1649944821: NoIssuesFound\n",
      "Training seconds: 252\n",
      "Billable seconds: 252\n"
     ]
    }
   ],
   "source": [
    "session = sagemaker.Session()\n",
    "\n",
    "# use `get_execution_role` when training through an AWS managed Notebook instance, otherwise use the ARN\n",
    "# role = get_execution_role()\n",
    "role = 'arn:aws:iam::994961437140:role/service-role/AmazonSageMaker-ExecutionRole-20220404T135362'\n",
    "\n",
    "# specify location of train, val and  test data. note - these need to be in the same region\n",
    "# as the session e.g. session.boto_region_name == s3 region\n",
    "\n",
    "train_location = 's3://module-2-lesson-2/train.csv'\n",
    "val_location = 's3://module-2-lesson-2/validation.csv'\n",
    "\n",
    "\n",
    "#specify bucket\n",
    "bucket = 'module-2-lesson-2'\n",
    "# We use this prefix to help us determine where the output will go. \n",
    "prefix = 'trained_model_new'\n",
    "\n",
    "\n",
    "# We need to get the location of the container. \n",
    "container = image_uris.retrieve(framework='blazingtext', region='eu-west-2', version='latest')\n",
    "\n",
    "# Now that we know which container to use, we can construct the estimator object.\n",
    "blaze = sagemaker.estimator.Estimator(container, # The image name of the training container\n",
    "                                    role,      # The IAM role to use (our current role in this case)\n",
    "                                    instance_count=1, # The number of instances to use for training\n",
    "                                    instance_type='ml.m5.large', # The type of instance to use for training\n",
    "                                    output_path=f's3://{bucket}/{prefix}/',\n",
    "                                                                        # Where to save the output (the model artifacts)\n",
    "                                    sagemaker_session=session) # The current SageMaker session\n",
    "             \n",
    "# These hyperparameters are beyond the scope of this course, but you can research the algoirthm here: \n",
    "# https://docs.aws.amazon.com/sagemaker/latest/dg/xgboost.html    \n",
    "    \n",
    "blaze.set_hyperparameters(mode='supervised')\n",
    "                        \n",
    "s3_input_train = sagemaker.inputs.TrainingInput(s3_data=train_location, content_type='csv')\n",
    "s3_input_validation = sagemaker.inputs.TrainingInput(s3_data=val_location, content_type='csv')\n",
    "\n",
    "# The fit method launches the training job. \n",
    "\n",
    "blaze.fit({'train': s3_input_train, 'validation': s3_input_validation})\n"
   ]
  },
  {
   "cell_type": "markdown",
   "id": "ee85daa2",
   "metadata": {},
   "source": [
    "### Training a model locally "
   ]
  },
  {
   "cell_type": "markdown",
   "id": "ff26da0b",
   "metadata": {},
   "source": [
    "tbc"
   ]
  },
  {
   "cell_type": "markdown",
   "id": "2b89c14a",
   "metadata": {},
   "source": [
    "# Endpoint Creation / Deployment"
   ]
  },
  {
   "cell_type": "code",
   "execution_count": 1,
   "id": "f7e14c5c",
   "metadata": {},
   "outputs": [],
   "source": [
    "from sagemaker import get_execution_role\n",
    "from sagemaker.model import Model\n",
    "from sagemaker import image_uris"
   ]
  },
  {
   "cell_type": "code",
   "execution_count": 2,
   "id": "e3e2d838",
   "metadata": {},
   "outputs": [
    {
     "name": "stderr",
     "output_type": "stream",
     "text": [
      "Defaulting to the only supported framework/algorithm version: 1. Ignoring framework/algorithm version: latest.\n"
     ]
    },
    {
     "name": "stdout",
     "output_type": "stream",
     "text": [
      "-----!"
     ]
    }
   ],
   "source": [
    "\n",
    "# get the execution role\n",
    "role = \"arn:aws:iam::994961437140:role/service-role/AmazonSageMaker-ExecutionRole-20220413T170815\"\n",
    "\n",
    "# get the image using the \"blazingtext\" framework and your region\n",
    "image_uri = image_uris.retrieve(framework='blazingtext', region='eu-west-2', version='latest')\n",
    "\n",
    "# get the S3 location of a SageMaker model data\n",
    "model_data = \"s3://module-2-lesson-2/trained_model_new/blazingtext-2022-04-14-14-00-21-213/output/model.tar.gz\"\n",
    "\n",
    "\n",
    "# define a model object\n",
    "model = Model(image_uri=image_uri,model_data=model_data,role=role)\n",
    "\n",
    "# deploy the model using a single instance of \"ml.m5.large\"\n",
    "predictor = model.deploy(initial_instance_count=1, instance_type=\"ml.m5.large\")"
   ]
  },
  {
   "cell_type": "markdown",
   "id": "f0994fc7",
   "metadata": {},
   "source": [
    "# Requesting Inferences from deployed model"
   ]
  },
  {
   "cell_type": "code",
   "execution_count": 28,
   "id": "68080a5b",
   "metadata": {},
   "outputs": [],
   "source": [
    "from sagemaker.predictor import Predictor\n",
    "import json\n",
    "\n",
    "# instantiats Predictor using model URI\n",
    "predictor = Predictor(\"blazingtext-2022-04-14-14-18-25-847\")\n"
   ]
  },
  {
   "cell_type": "code",
   "execution_count": 29,
   "id": "cbbdd184",
   "metadata": {},
   "outputs": [],
   "source": [
    "payload = {\"instances\": ['This is a really useful piece of kit and I would recommedn it to anyone\\\n",
    "                         ']}"
   ]
  },
  {
   "cell_type": "code",
   "execution_count": 30,
   "id": "9f8292d5",
   "metadata": {},
   "outputs": [],
   "source": [
    "predictions = predictor.predict(json.dumps(payload),initial_args={'ContentType': 'application/json'})"
   ]
  },
  {
   "cell_type": "code",
   "execution_count": 31,
   "id": "13d4767b",
   "metadata": {},
   "outputs": [
    {
     "data": {
      "text/plain": [
       "b'[{\"label\": [\"__label__1\"], \"prob\": [0.8450029492378235]}]'"
      ]
     },
     "execution_count": 31,
     "metadata": {},
     "output_type": "execute_result"
    }
   ],
   "source": [
    "predictions"
   ]
  },
  {
   "cell_type": "code",
   "execution_count": 3,
   "id": "cfcd0f6c",
   "metadata": {},
   "outputs": [
    {
     "ename": "AttributeError",
     "evalue": "'NoneType' object has no attribute 'delete_endpoint'",
     "output_type": "error",
     "traceback": [
      "\u001b[0;31m---------------------------------------------------------------------------\u001b[0m",
      "\u001b[0;31mAttributeError\u001b[0m                            Traceback (most recent call last)",
      "\u001b[0;32m<ipython-input-3-4c18629287cd>\u001b[0m in \u001b[0;36m<module>\u001b[0;34m\u001b[0m\n\u001b[1;32m      1\u001b[0m \u001b[0;31m# delete endpoint to stop charges\u001b[0m\u001b[0;34m\u001b[0m\u001b[0;34m\u001b[0m\u001b[0;34m\u001b[0m\u001b[0m\n\u001b[0;32m----> 2\u001b[0;31m \u001b[0mpredictor\u001b[0m\u001b[0;34m.\u001b[0m\u001b[0mdelete_endpoint\u001b[0m\u001b[0;34m(\u001b[0m\u001b[0;34m)\u001b[0m\u001b[0;34m\u001b[0m\u001b[0;34m\u001b[0m\u001b[0m\n\u001b[0m",
      "\u001b[0;31mAttributeError\u001b[0m: 'NoneType' object has no attribute 'delete_endpoint'"
     ]
    }
   ],
   "source": [
    "# delete endpoint to stop charges\n",
    "predictor.delete_endpoint()"
   ]
  },
  {
   "cell_type": "markdown",
   "id": "f8363e42",
   "metadata": {},
   "source": [
    "# Batch Transform Jobs\n",
    "---"
   ]
  },
  {
   "cell_type": "code",
   "execution_count": null,
   "id": "f612e367",
   "metadata": {},
   "outputs": [],
   "source": []
  }
 ],
 "metadata": {
  "kernelspec": {
   "display_name": "Python 3",
   "language": "python",
   "name": "python3"
  },
  "language_info": {
   "codemirror_mode": {
    "name": "ipython",
    "version": 3
   },
   "file_extension": ".py",
   "mimetype": "text/x-python",
   "name": "python",
   "nbconvert_exporter": "python",
   "pygments_lexer": "ipython3",
   "version": "3.6.13"
  },
  "varInspector": {
   "cols": {
    "lenName": 16,
    "lenType": 16,
    "lenVar": 40
   },
   "kernels_config": {
    "python": {
     "delete_cmd_postfix": "",
     "delete_cmd_prefix": "del ",
     "library": "var_list.py",
     "varRefreshCmd": "print(var_dic_list())"
    },
    "r": {
     "delete_cmd_postfix": ") ",
     "delete_cmd_prefix": "rm(",
     "library": "var_list.r",
     "varRefreshCmd": "cat(var_dic_list()) "
    }
   },
   "types_to_exclude": [
    "module",
    "function",
    "builtin_function_or_method",
    "instance",
    "_Feature"
   ],
   "window_display": false
  }
 },
 "nbformat": 4,
 "nbformat_minor": 5
}
